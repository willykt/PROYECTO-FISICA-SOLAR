{
 "cells": [
  {
   "cell_type": "code",
   "execution_count": null,
   "metadata": {},
   "outputs": [],
   "source": [
    "import sunpy\n",
    "import numpy\n",
    "import glob\n",
    "from sunpy.map import Map\n",
    "import matplotlib.pyplot as plt\n",
    "from astropy.io import fits\n",
    "\n",
    "file_list = []\n",
    "file_list.append(glob.glob('*.i*.fits'))\n",
    "file_list=sorted(file_list)\n",
    "\n",
    "files=Map(file_list)\n",
    "print(files[1].date.value)"
   ]
  },
  {
   "cell_type": "code",
   "execution_count": null,
   "metadata": {},
   "outputs": [],
   "source": [
    "for i in range(5):\n",
    "    fig = plt.figure(figsize=(8,8))\n",
    "    plt.imshow(files[i+1].data-files[i].data,origin='bottom')\n",
    "    plt.colorbar()\n",
    "    plt.title(str(i),fontsize=28)\n",
    "    plt.savefig(s+'.eps')\n",
    "plt.show()"
   ]
  }
 ],
 "metadata": {
  "kernelspec": {
   "display_name": "Python 3",
   "language": "python",
   "name": "python3"
  },
  "language_info": {
   "codemirror_mode": {
    "name": "ipython",
    "version": 3
   },
   "file_extension": ".py",
   "mimetype": "text/x-python",
   "name": "python",
   "nbconvert_exporter": "python",
   "pygments_lexer": "ipython3",
   "version": "3.7.4"
  }
 },
 "nbformat": 4,
 "nbformat_minor": 4
}

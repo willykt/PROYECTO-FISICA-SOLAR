{
 "cells": [
  {
   "cell_type": "code",
   "execution_count": null,
   "metadata": {},
   "outputs": [],
   "source": [
    "import sunpy\n",
    "import numpy as np\n",
    "import glob\n",
    "from sunpy.map import Map\n",
    "import matplotlib.pyplot as plt\n",
    "from astropy.io import fits\n",
    "import imageio\n",
    "\n",
    "\n",
    "\n",
    "file_list = []\n",
    "file_list.append(glob.glob('*.i*.fits'))\n",
    "file_list=sorted(file_list)\n",
    "\n",
    "files=Map(file_list)\n",
    "#print(files)\n",
    "\n",
    "\n",
    "data_images=[]\n",
    "for i in range(20):\n",
    "    data_images.append(np.abs(files[i+1].data-files[i].data))\n",
    "    \t\t\t\t\t\t\t\t\t\t\t\n",
    "\n",
    "\n",
    "index = 0\n",
    "\n",
    "def toggle_images(event):\n",
    "    global index\n",
    "\n",
    "    index += 1\n",
    "\n",
    "    if index < len(data_images):\n",
    "        plt.imshow(data_images[index])\n",
    "        plt.colorbar()\n",
    "\t\n",
    "        plt.draw()\n",
    "    else:        \n",
    "        plt.close()\n",
    "\n",
    "#----------------------------------\n",
    "\n",
    "for i in range(20):\n",
    "    fig = plt.figure(figsize=(10,10))\n",
    "    \n",
    "    plt.imshow(data_images[index],cmap='tab10',vmin=0,vmax=60,origin='bottom',animated=True)\n",
    "    plt.colorbar()\n",
    "    plt.title(files[i].date.value)\n",
    "    plt.connect('key_press_event', toggle_images)\n",
    "    plt.savefig(files[i].date.value+'.pdf',dpi=300)\n",
    "    #plt.show()\n"
   ]
  },
  {
   "cell_type": "code",
   "execution_count": null,
   "metadata": {},
   "outputs": [],
   "source": []
  },
  {
   "cell_type": "code",
   "execution_count": null,
   "metadata": {},
   "outputs": [],
   "source": []
  },
  {
   "cell_type": "code",
   "execution_count": null,
   "metadata": {},
   "outputs": [],
   "source": []
  },
  {
   "cell_type": "code",
   "execution_count": null,
   "metadata": {},
   "outputs": [],
   "source": []
  }
 ],
 "metadata": {
  "kernelspec": {
   "display_name": "Python 3",
   "language": "python",
   "name": "python3"
  },
  "language_info": {
   "codemirror_mode": {
    "name": "ipython",
    "version": 3
   },
   "file_extension": ".py",
   "mimetype": "text/x-python",
   "name": "python",
   "nbconvert_exporter": "python",
   "pygments_lexer": "ipython3",
   "version": "3.7.4"
  }
 },
 "nbformat": 4,
 "nbformat_minor": 2
}
